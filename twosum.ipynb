{
 "cells": [
  {
   "cell_type": "markdown",
   "metadata": {},
   "source": [
    "# import the library"
   ]
  },
  {
   "cell_type": "code",
   "execution_count": 1,
   "metadata": {},
   "outputs": [],
   "source": [
    "import torch\n",
    "import torch.nn as nn\n",
    "import torch.nn.functional as F\n",
    "import math"
   ]
  },
  {
   "cell_type": "markdown",
   "metadata": {},
   "source": [
    "# process the data"
   ]
  },
  {
   "cell_type": "code",
   "execution_count": 2,
   "metadata": {},
   "outputs": [],
   "source": [
    "data = []\n",
    "with open(\"data.txt\", \"r\") as f:\n",
    "    for line in f:\n",
    "        inner_data = list(line.strip().split())\n",
    "        for idx in range(len(inner_data)):\n",
    "            if inner_data[idx].isdigit():\n",
    "                inner_data[idx] = int(inner_data[idx])\n",
    "        data.append(inner_data)\n"
   ]
  },
  {
   "cell_type": "code",
   "execution_count": 3,
   "metadata": {},
   "outputs": [
    {
     "name": "stdout",
     "output_type": "stream",
     "text": [
      "torch.Size([50]) torch.Size([51])\n",
      "tensor([11,  5,  7,  6,  5,  4,  6,  4,  9,  9,  3,  7,  5,  5,  9, 10, 10, 13,\n",
      "        10,  8,  7,  8,  9,  7,  4,  7,  1,  6,  1,  9,  5,  4,  2,  7, 12,  0,\n",
      "         0,  0,  0,  0,  0,  0,  0,  0,  0,  0,  0,  0,  0,  0]) tensor([11,  6,  6,  4,  4,  4,  3,  9,  7, 10,  9,  9,  5,  1,  3,  2,  7, 12,\n",
      "         0,  0,  0,  0,  0,  0,  0,  0,  0,  0,  0,  0,  0,  0,  0,  0,  0,  0,\n",
      "         0,  0,  0,  0,  0,  0,  0,  0,  0,  0,  0,  0,  0,  0,  0])\n"
     ]
    }
   ],
   "source": [
    "import random  \n",
    "  \n",
    "import numpy as np  \n",
    "import torch  \n",
    "from torch.utils.data import Dataset,DataLoader  \n",
    "\n",
    "random.seed(0)\n",
    "np.random.seed(0)\n",
    "  \n",
    "# 定义字典  \n",
    "words_x = '<PAD>,1,2,3,4,5,6,7,8,9,0,<SOS>,<EOS>,+'  \n",
    "vocab_x = {word: i for i, word in enumerate(words_x.split(','))}  \n",
    "vocab_xr = [k for k, v in vocab_x.items()] #反查词典  \n",
    "  \n",
    "words_y = '<PAD>,1,2,3,4,5,6,7,8,9,0,<SOS>,<EOS>'  \n",
    "vocab_y = {word: i for i, word in enumerate(words_y.split(','))}  \n",
    "vocab_yr = [k for k, v in vocab_y.items()] #反查词典  \n",
    "#两数相加数据集  \n",
    "def get_data():  \n",
    "    # 定义词集合  \n",
    "    words = ['0', '1', '2', '3', '4', '5', '6', '7', '8', '9']  \n",
    "  \n",
    "    # 每个词被选中的概率  \n",
    "    p = np.array([7, 5, 5, 7, 6, 5, 7, 6, 5, 7])  \n",
    "    p = p / p.sum()  \n",
    "  \n",
    "    # 随机采样n1个词作为s1  \n",
    "    n1 = random.randint(10, 20)  \n",
    "    s1 = np.random.choice(words, size=n1, replace=True, p=p)  \n",
    "    s1 = s1.tolist()  \n",
    "\n",
    "    # 随机采样n2个词作为s2  \n",
    "    n2 = random.randint(10, 20)  \n",
    "    s2 = np.random.choice(words, size=n2, replace=True, p=p)  \n",
    "    s2 = s2.tolist()  \n",
    "  \n",
    "    # x等于s1和s2字符上的相加  \n",
    "    x = s1 + ['+'] + s2  \n",
    "      \n",
    "    # y等于s1和s2数值上的相加  \n",
    "    y = int(''.join(s1)) + int(''.join(s2))  \n",
    "    y = list(str(y))  \n",
    "      \n",
    "    # 加上首尾符号  \n",
    "    x = ['<SOS>'] + x + ['<EOS>']  \n",
    "    y = ['<SOS>'] + y + ['<EOS>']  \n",
    "  \n",
    "    # 补pad到固定长度  \n",
    "    x = x + ['<PAD>'] * 50  \n",
    "    y = y + ['<PAD>'] * 51  \n",
    "    x = x[:50]  \n",
    "    y = y[:51]  \n",
    "  \n",
    "    # 编码成token  \n",
    "    token_x = [vocab_x[i] for i in x]  \n",
    "    token_y = [vocab_y[i] for i in y]  \n",
    "  \n",
    "    # 转tensor  \n",
    "    tensor_x = torch.LongTensor(token_x)  \n",
    "    tensor_y = torch.LongTensor(token_y)  \n",
    "    return tensor_x, tensor_y  \n",
    "  \n",
    "  \n",
    "def show_data(tensor_x,tensor_y) ->\"str\":  \n",
    "    words_x = \"\".join([vocab_xr[i] for i in tensor_x.tolist()])  \n",
    "    words_y = \"\".join([vocab_yr[i] for i in tensor_y.tolist()])  \n",
    "    return words_x,words_y  \n",
    "  \n",
    "  \n",
    "x,y = get_data()   \n",
    "print(x.shape,y.shape)\n",
    "print(x,y)\n",
    "\n"
   ]
  },
  {
   "cell_type": "code",
   "execution_count": 4,
   "metadata": {},
   "outputs": [
    {
     "name": "stdout",
     "output_type": "stream",
     "text": [
      "torch.Size([200, 50])\n",
      "torch.Size([200, 51])\n"
     ]
    }
   ],
   "source": [
    "# 定义数据集  \n",
    "class TwoSumDataset(torch.utils.data.Dataset):  \n",
    "    def __init__(self,size = 100000):  \n",
    "        super(Dataset, self).__init__()  \n",
    "        self.size = size  \n",
    "  \n",
    "    def __len__(self):  \n",
    "        return self.size  \n",
    "  \n",
    "    def __getitem__(self, i):  \n",
    "        return get_data()  \n",
    "      \n",
    "ds_train = TwoSumDataset(size = 100000)  \n",
    "ds_val = TwoSumDataset(size = 10000)  \n",
    "  \n",
    "  \n",
    "# 数据加载器  \n",
    "dl_train = DataLoader(dataset=ds_train,  \n",
    "         batch_size=200,  \n",
    "         drop_last=True,  \n",
    "         shuffle=True)  \n",
    "  \n",
    "dl_val = DataLoader(dataset=ds_val,  \n",
    "         batch_size=200,  \n",
    "         drop_last=True,  \n",
    "         shuffle=False)  \n",
    "  \n",
    "for src,tgt in dl_train:  \n",
    "    print(src.shape)  \n",
    "    print(tgt.shape)  \n",
    "    break   \n"
   ]
  },
  {
   "cell_type": "markdown",
   "metadata": {},
   "source": [
    "# model"
   ]
  },
  {
   "cell_type": "code",
   "execution_count": 6,
   "metadata": {},
   "outputs": [],
   "source": [
    "class PositionEncoding(nn.Module):  \n",
    "    \"Implement the PE function.\"  \n",
    "    def __init__(self, d_model, dropout, max_len=5000):  \n",
    "        super(PositionEncoding, self).__init__()  \n",
    "        self.dropout = nn.Dropout(p=dropout)  \n",
    "          \n",
    "        # Compute the positional encodings once in log space.  \n",
    "        pe = torch.zeros(max_len, d_model)  \n",
    "        position = torch.arange(0, max_len).unsqueeze(1)  \n",
    "        div_term = torch.exp(torch.arange(0, d_model, 2) *  \n",
    "                             -(math.log(10000.0) / d_model))  \n",
    "        pe[:, 0::2] = torch.sin(position * div_term)  \n",
    "        pe[:, 1::2] = torch.cos(position * div_term)  \n",
    "        pe = pe.unsqueeze(0)  \n",
    "        self.register_buffer('pe', pe)  \n",
    "          \n",
    "    def forward(self, x):  \n",
    "        x = x + self.pe[:, :x.size(1)]  \n",
    "        return self.dropout(x)  "
   ]
  },
  {
   "cell_type": "code",
   "execution_count": 20,
   "metadata": {},
   "outputs": [],
   "source": [
    "class TransformerModel(nn.Transformer):\n",
    "    def __init__(self, ntoken, ninp, nhead, nhid, nlayers, dropout=0.1):\n",
    "        super(TransformerModel, self).__init__(d_model = ninp, nhead = nhead, num_encoder_layers = nlayers,\n",
    "                 num_decoder_layers = nlayers, dim_feedforward = nhid, device=None)\n",
    "        self.pe = PositionEncoding(ninp,dropout)\n",
    "        self.embed = nn.Embedding(ntoken, ninp)\n",
    "        self.nhead = nhead\n",
    "        self.nhid = nhid\n",
    "        self.nlayers = nlayers\n",
    "        self.ninp = ninp\n",
    "        self.decoder = nn.Linear(ninp, ntoken)\n",
    "    \n",
    "\n",
    "    def forward(self, src, tgt, src_mask=None):\n",
    "        src = self.embed(src)\n",
    "        src = self.pe(src)\n",
    "        output = self.encoder(src, src_mask)\n",
    "        output = self.decoder(output, tgt)\n",
    "        return output\n",
    "\n"
   ]
  },
  {
   "cell_type": "code",
   "execution_count": 21,
   "metadata": {},
   "outputs": [
    {
     "name": "stderr",
     "output_type": "stream",
     "text": [
      "/Users/gabe/miniconda3/envs/exp/lib/python3.9/site-packages/torch/nn/modules/transformer.py:306: UserWarning: enable_nested_tensor is True, but self.use_nested_tensor is False because encoder_layer.self_attn.batch_first was not True(use batch_first for better inference performance)\n",
      "  warnings.warn(f\"enable_nested_tensor is True, but self.use_nested_tensor is False because {why_not_sparsity_fast_path}\")\n"
     ]
    }
   ],
   "source": [
    "model = TransformerModel(ntoken = len(vocab_x), ninp = 32, nhead = 2, nhid = 512, nlayers=4)\n",
    "criterion = nn.CrossEntropyLoss()\n",
    "optimizer = torch.optim.SGD(model.parameters(), lr=0.01)\n"
   ]
  },
  {
   "cell_type": "code",
   "execution_count": 23,
   "metadata": {},
   "outputs": [
    {
     "ename": "RuntimeError",
     "evalue": "The size of tensor a (50) must match the size of tensor b (32) at non-singleton dimension 1",
     "output_type": "error",
     "traceback": [
      "\u001b[0;31m---------------------------------------------------------------------------\u001b[0m",
      "\u001b[0;31mRuntimeError\u001b[0m                              Traceback (most recent call last)",
      "Cell \u001b[0;32mIn[23], line 6\u001b[0m\n\u001b[1;32m      4\u001b[0m target_data \u001b[38;5;241m=\u001b[39m target_data[:\u001b[38;5;241m-\u001b[39m\u001b[38;5;241m1\u001b[39m]\n\u001b[1;32m      5\u001b[0m optimizer\u001b[38;5;241m.\u001b[39mzero_grad()\n\u001b[0;32m----> 6\u001b[0m output \u001b[38;5;241m=\u001b[39m \u001b[43mmodel\u001b[49m\u001b[43m(\u001b[49m\u001b[43minput_data\u001b[49m\u001b[43m,\u001b[49m\u001b[43m \u001b[49m\u001b[43mtarget_data\u001b[49m\u001b[43m)\u001b[49m\n\u001b[1;32m      7\u001b[0m loss \u001b[38;5;241m=\u001b[39m criterion(output, target_data)\n\u001b[1;32m      8\u001b[0m loss\u001b[38;5;241m.\u001b[39mbackward()\n",
      "File \u001b[0;32m~/miniconda3/envs/exp/lib/python3.9/site-packages/torch/nn/modules/module.py:1532\u001b[0m, in \u001b[0;36mModule._wrapped_call_impl\u001b[0;34m(self, *args, **kwargs)\u001b[0m\n\u001b[1;32m   1530\u001b[0m     \u001b[38;5;28;01mreturn\u001b[39;00m \u001b[38;5;28mself\u001b[39m\u001b[38;5;241m.\u001b[39m_compiled_call_impl(\u001b[38;5;241m*\u001b[39margs, \u001b[38;5;241m*\u001b[39m\u001b[38;5;241m*\u001b[39mkwargs)  \u001b[38;5;66;03m# type: ignore[misc]\u001b[39;00m\n\u001b[1;32m   1531\u001b[0m \u001b[38;5;28;01melse\u001b[39;00m:\n\u001b[0;32m-> 1532\u001b[0m     \u001b[38;5;28;01mreturn\u001b[39;00m \u001b[38;5;28;43mself\u001b[39;49m\u001b[38;5;241;43m.\u001b[39;49m\u001b[43m_call_impl\u001b[49m\u001b[43m(\u001b[49m\u001b[38;5;241;43m*\u001b[39;49m\u001b[43margs\u001b[49m\u001b[43m,\u001b[49m\u001b[43m \u001b[49m\u001b[38;5;241;43m*\u001b[39;49m\u001b[38;5;241;43m*\u001b[39;49m\u001b[43mkwargs\u001b[49m\u001b[43m)\u001b[49m\n",
      "File \u001b[0;32m~/miniconda3/envs/exp/lib/python3.9/site-packages/torch/nn/modules/module.py:1541\u001b[0m, in \u001b[0;36mModule._call_impl\u001b[0;34m(self, *args, **kwargs)\u001b[0m\n\u001b[1;32m   1536\u001b[0m \u001b[38;5;66;03m# If we don't have any hooks, we want to skip the rest of the logic in\u001b[39;00m\n\u001b[1;32m   1537\u001b[0m \u001b[38;5;66;03m# this function, and just call forward.\u001b[39;00m\n\u001b[1;32m   1538\u001b[0m \u001b[38;5;28;01mif\u001b[39;00m \u001b[38;5;129;01mnot\u001b[39;00m (\u001b[38;5;28mself\u001b[39m\u001b[38;5;241m.\u001b[39m_backward_hooks \u001b[38;5;129;01mor\u001b[39;00m \u001b[38;5;28mself\u001b[39m\u001b[38;5;241m.\u001b[39m_backward_pre_hooks \u001b[38;5;129;01mor\u001b[39;00m \u001b[38;5;28mself\u001b[39m\u001b[38;5;241m.\u001b[39m_forward_hooks \u001b[38;5;129;01mor\u001b[39;00m \u001b[38;5;28mself\u001b[39m\u001b[38;5;241m.\u001b[39m_forward_pre_hooks\n\u001b[1;32m   1539\u001b[0m         \u001b[38;5;129;01mor\u001b[39;00m _global_backward_pre_hooks \u001b[38;5;129;01mor\u001b[39;00m _global_backward_hooks\n\u001b[1;32m   1540\u001b[0m         \u001b[38;5;129;01mor\u001b[39;00m _global_forward_hooks \u001b[38;5;129;01mor\u001b[39;00m _global_forward_pre_hooks):\n\u001b[0;32m-> 1541\u001b[0m     \u001b[38;5;28;01mreturn\u001b[39;00m \u001b[43mforward_call\u001b[49m\u001b[43m(\u001b[49m\u001b[38;5;241;43m*\u001b[39;49m\u001b[43margs\u001b[49m\u001b[43m,\u001b[49m\u001b[43m \u001b[49m\u001b[38;5;241;43m*\u001b[39;49m\u001b[38;5;241;43m*\u001b[39;49m\u001b[43mkwargs\u001b[49m\u001b[43m)\u001b[49m\n\u001b[1;32m   1543\u001b[0m \u001b[38;5;28;01mtry\u001b[39;00m:\n\u001b[1;32m   1544\u001b[0m     result \u001b[38;5;241m=\u001b[39m \u001b[38;5;28;01mNone\u001b[39;00m\n",
      "Cell \u001b[0;32mIn[20], line 16\u001b[0m, in \u001b[0;36mTransformerModel.forward\u001b[0;34m(self, src, tgt, src_mask)\u001b[0m\n\u001b[1;32m     14\u001b[0m \u001b[38;5;28;01mdef\u001b[39;00m \u001b[38;5;21mforward\u001b[39m(\u001b[38;5;28mself\u001b[39m, src, tgt, src_mask\u001b[38;5;241m=\u001b[39m\u001b[38;5;28;01mNone\u001b[39;00m):\n\u001b[1;32m     15\u001b[0m     src \u001b[38;5;241m=\u001b[39m \u001b[38;5;28mself\u001b[39m\u001b[38;5;241m.\u001b[39membed(src)\n\u001b[0;32m---> 16\u001b[0m     src \u001b[38;5;241m=\u001b[39m \u001b[38;5;28;43mself\u001b[39;49m\u001b[38;5;241;43m.\u001b[39;49m\u001b[43mpe\u001b[49m\u001b[43m(\u001b[49m\u001b[43msrc\u001b[49m\u001b[43m)\u001b[49m\n\u001b[1;32m     17\u001b[0m     output \u001b[38;5;241m=\u001b[39m \u001b[38;5;28mself\u001b[39m\u001b[38;5;241m.\u001b[39mencoder(src, src_mask)\n\u001b[1;32m     18\u001b[0m     output \u001b[38;5;241m=\u001b[39m \u001b[38;5;28mself\u001b[39m\u001b[38;5;241m.\u001b[39mdecoder(output, tgt)\n",
      "File \u001b[0;32m~/miniconda3/envs/exp/lib/python3.9/site-packages/torch/nn/modules/module.py:1532\u001b[0m, in \u001b[0;36mModule._wrapped_call_impl\u001b[0;34m(self, *args, **kwargs)\u001b[0m\n\u001b[1;32m   1530\u001b[0m     \u001b[38;5;28;01mreturn\u001b[39;00m \u001b[38;5;28mself\u001b[39m\u001b[38;5;241m.\u001b[39m_compiled_call_impl(\u001b[38;5;241m*\u001b[39margs, \u001b[38;5;241m*\u001b[39m\u001b[38;5;241m*\u001b[39mkwargs)  \u001b[38;5;66;03m# type: ignore[misc]\u001b[39;00m\n\u001b[1;32m   1531\u001b[0m \u001b[38;5;28;01melse\u001b[39;00m:\n\u001b[0;32m-> 1532\u001b[0m     \u001b[38;5;28;01mreturn\u001b[39;00m \u001b[38;5;28;43mself\u001b[39;49m\u001b[38;5;241;43m.\u001b[39;49m\u001b[43m_call_impl\u001b[49m\u001b[43m(\u001b[49m\u001b[38;5;241;43m*\u001b[39;49m\u001b[43margs\u001b[49m\u001b[43m,\u001b[49m\u001b[43m \u001b[49m\u001b[38;5;241;43m*\u001b[39;49m\u001b[38;5;241;43m*\u001b[39;49m\u001b[43mkwargs\u001b[49m\u001b[43m)\u001b[49m\n",
      "File \u001b[0;32m~/miniconda3/envs/exp/lib/python3.9/site-packages/torch/nn/modules/module.py:1541\u001b[0m, in \u001b[0;36mModule._call_impl\u001b[0;34m(self, *args, **kwargs)\u001b[0m\n\u001b[1;32m   1536\u001b[0m \u001b[38;5;66;03m# If we don't have any hooks, we want to skip the rest of the logic in\u001b[39;00m\n\u001b[1;32m   1537\u001b[0m \u001b[38;5;66;03m# this function, and just call forward.\u001b[39;00m\n\u001b[1;32m   1538\u001b[0m \u001b[38;5;28;01mif\u001b[39;00m \u001b[38;5;129;01mnot\u001b[39;00m (\u001b[38;5;28mself\u001b[39m\u001b[38;5;241m.\u001b[39m_backward_hooks \u001b[38;5;129;01mor\u001b[39;00m \u001b[38;5;28mself\u001b[39m\u001b[38;5;241m.\u001b[39m_backward_pre_hooks \u001b[38;5;129;01mor\u001b[39;00m \u001b[38;5;28mself\u001b[39m\u001b[38;5;241m.\u001b[39m_forward_hooks \u001b[38;5;129;01mor\u001b[39;00m \u001b[38;5;28mself\u001b[39m\u001b[38;5;241m.\u001b[39m_forward_pre_hooks\n\u001b[1;32m   1539\u001b[0m         \u001b[38;5;129;01mor\u001b[39;00m _global_backward_pre_hooks \u001b[38;5;129;01mor\u001b[39;00m _global_backward_hooks\n\u001b[1;32m   1540\u001b[0m         \u001b[38;5;129;01mor\u001b[39;00m _global_forward_hooks \u001b[38;5;129;01mor\u001b[39;00m _global_forward_pre_hooks):\n\u001b[0;32m-> 1541\u001b[0m     \u001b[38;5;28;01mreturn\u001b[39;00m \u001b[43mforward_call\u001b[49m\u001b[43m(\u001b[49m\u001b[38;5;241;43m*\u001b[39;49m\u001b[43margs\u001b[49m\u001b[43m,\u001b[49m\u001b[43m \u001b[49m\u001b[38;5;241;43m*\u001b[39;49m\u001b[38;5;241;43m*\u001b[39;49m\u001b[43mkwargs\u001b[49m\u001b[43m)\u001b[49m\n\u001b[1;32m   1543\u001b[0m \u001b[38;5;28;01mtry\u001b[39;00m:\n\u001b[1;32m   1544\u001b[0m     result \u001b[38;5;241m=\u001b[39m \u001b[38;5;28;01mNone\u001b[39;00m\n",
      "Cell \u001b[0;32mIn[6], line 18\u001b[0m, in \u001b[0;36mPositionEncoding.forward\u001b[0;34m(self, x)\u001b[0m\n\u001b[1;32m     17\u001b[0m \u001b[38;5;28;01mdef\u001b[39;00m \u001b[38;5;21mforward\u001b[39m(\u001b[38;5;28mself\u001b[39m, x):  \n\u001b[0;32m---> 18\u001b[0m     x \u001b[38;5;241m=\u001b[39m \u001b[43mx\u001b[49m\u001b[43m \u001b[49m\u001b[38;5;241;43m+\u001b[39;49m\u001b[43m \u001b[49m\u001b[38;5;28;43mself\u001b[39;49m\u001b[38;5;241;43m.\u001b[39;49m\u001b[43mpe\u001b[49m\u001b[43m[\u001b[49m\u001b[43m:\u001b[49m\u001b[43m,\u001b[49m\u001b[43m \u001b[49m\u001b[43m:\u001b[49m\u001b[43mx\u001b[49m\u001b[38;5;241;43m.\u001b[39;49m\u001b[43msize\u001b[49m\u001b[43m(\u001b[49m\u001b[38;5;241;43m1\u001b[39;49m\u001b[43m)\u001b[49m\u001b[43m]\u001b[49m  \n\u001b[1;32m     19\u001b[0m     \u001b[38;5;28;01mreturn\u001b[39;00m \u001b[38;5;28mself\u001b[39m\u001b[38;5;241m.\u001b[39mdropout(x)\n",
      "\u001b[0;31mRuntimeError\u001b[0m: The size of tensor a (50) must match the size of tensor b (32) at non-singleton dimension 1"
     ]
    }
   ],
   "source": [
    "for epoch in range(100):\n",
    "    for i in range(100):\n",
    "        input_data, target_data = get_data()\n",
    "        target_data = target_data[:-1]\n",
    "        optimizer.zero_grad()\n",
    "        output = model(input_data, target_data)\n",
    "        loss = criterion(output, target_data)\n",
    "        loss.backward()\n",
    "        optimizer.step()\n",
    "        print(f\"Epoch: {epoch}, Loss: {loss.item()}\")"
   ]
  },
  {
   "cell_type": "code",
   "execution_count": null,
   "metadata": {},
   "outputs": [
    {
     "name": "stdout",
     "output_type": "stream",
     "text": [
      "tensor([11,  3, 10,  5,  7,  7,  6,  9,  5,  5,  9,  1,  6,  2,  5,  7, 13,  9,\n",
      "         1,  6,  6,  4,  1, 10,  8,  8,  3,  3, 10, 12,  0,  0,  0,  0,  0,  0,\n",
      "         0,  0,  0,  0,  0,  0,  0,  0,  0,  0,  0,  0,  0,  0])\n",
      "tensor([11,  3, 10,  6,  6,  9,  3,  5,  9,  7, 10, 10,  4,  5,  8,  7, 12,  0,\n",
      "         0,  0,  0,  0,  0,  0,  0,  0,  0,  0,  0,  0,  0,  0,  0,  0,  0,  0,\n",
      "         0,  0,  0,  0,  0,  0,  0,  0,  0,  0,  0,  0,  0,  0])\n",
      "tensor([11,  0,  0,  0,  0,  0,  0,  0,  0,  0,  0,  0,  0,  0,  0,  0, 12,  0,\n",
      "         0,  0,  0,  0,  0,  0,  0,  0,  0,  0,  0,  0,  0,  0,  0,  0,  0,  0,\n",
      "         0,  0,  0,  0,  0,  0,  0,  0,  0,  0,  0,  0,  0,  0])\n"
     ]
    }
   ],
   "source": [
    "# test\n",
    "input_data, target_data = get_data()\n",
    "output = model(input_data)\n",
    "print(input_data)\n",
    "print(target_data)\n",
    "print(torch.argmax(output, dim=-1))"
   ]
  }
 ],
 "metadata": {
  "kernelspec": {
   "display_name": "exp",
   "language": "python",
   "name": "python3"
  },
  "language_info": {
   "codemirror_mode": {
    "name": "ipython",
    "version": 3
   },
   "file_extension": ".py",
   "mimetype": "text/x-python",
   "name": "python",
   "nbconvert_exporter": "python",
   "pygments_lexer": "ipython3",
   "version": "3.9.-1"
  }
 },
 "nbformat": 4,
 "nbformat_minor": 2
}
